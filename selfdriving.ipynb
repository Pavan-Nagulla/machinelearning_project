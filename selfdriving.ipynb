{
  "nbformat": 4,
  "nbformat_minor": 0,
  "metadata": {
    "colab": {
      "provenance": [],
      "authorship_tag": "ABX9TyNc9iP0ESYxpk+VHi82/bdn",
      "include_colab_link": true
    },
    "kernelspec": {
      "name": "python3",
      "display_name": "Python 3"
    },
    "language_info": {
      "name": "python"
    }
  },
  "cells": [
    {
      "cell_type": "markdown",
      "metadata": {
        "id": "view-in-github",
        "colab_type": "text"
      },
      "source": [
        "<a href=\"https://colab.research.google.com/github/Pavan-Nagulla/machinelearning_project/blob/main/selfdriving.ipynb\" target=\"_parent\"><img src=\"https://colab.research.google.com/assets/colab-badge.svg\" alt=\"Open In Colab\"/></a>"
      ]
    },
    {
      "cell_type": "code",
      "source": [
        "import os\n",
        "from itertools import islice\n",
        "import numpy as np\n",
        "from scipy import pi\n",
        "\n",
        "from google.colab import drive\n",
        "#drive.mount('/driving-datasets')\n",
        "\n",
        "DATA_FOLDER= drive.mount('/driving-datasets')\n",
        "TRAIN_FILE= os.path.join(DATA_FOLDER,'data.txt')\n",
        "LIMIT=None\n",
        "\n",
        "split=0.8\n",
        "\n",
        "X=[]\n",
        "y=[]\n",
        "\n",
        "with open(TRAIN_FILE) as fp:\n",
        "  for line in islice(fp,LIMIT):\n",
        "      path,angle = line.strip().split()\n",
        "      full_path=os.path.join(DATA_FOLDER,path)\n",
        "      X.append(full_path)\n",
        "      y.append(float(angle)*pi/100)\n",
        "\n",
        "y=np.array(y)\n",
        "print('successfull!!!')"
      ],
      "metadata": {
        "id": "lWZKjxjHQRKd"
      },
      "execution_count": null,
      "outputs": []
    },
    {
      "cell_type": "markdown",
      "source": [
        "# split the dataset"
      ],
      "metadata": {
        "id": "g989zJd-S3R5"
      }
    },
    {
      "cell_type": "code",
      "source": [
        "split_index= int(len(y)*0.8)"
      ],
      "metadata": {
        "id": "86knLZeBbx4l"
      },
      "execution_count": null,
      "outputs": []
    },
    {
      "cell_type": "code",
      "source": [
        "train_y=y[:split_index]"
      ],
      "metadata": {
        "id": "97Gayb4ScA0w"
      },
      "execution_count": null,
      "outputs": []
    },
    {
      "cell_type": "code",
      "source": [
        "test_y=y[split_index:]"
      ],
      "metadata": {
        "id": "1grZ0ldAcGDp"
      },
      "execution_count": null,
      "outputs": []
    },
    {
      "cell_type": "code",
      "source": [
        "import matplotlib.pyplot as plt\n",
        "plt.hist(train_y,bins=50,color=\"blue\",histtype='step')\n",
        "plt.hist(test_y,bins=50,color=\"red\",histtype='step')"
      ],
      "metadata": {
        "id": "jG4kKbaKcKA-"
      },
      "execution_count": null,
      "outputs": []
    },
    {
      "cell_type": "code",
      "source": [
        "#regression problem\n",
        "import numpy as np\n",
        "train_mean_y=np.mean(train_y)\n",
        "np.mean(np.square(test_y_train_y))"
      ],
      "metadata": {
        "id": "UCKLFBkFdajW"
      },
      "execution_count": null,
      "outputs": []
    },
    {
      "cell_type": "code",
      "source": [
        "np.mean(np.square(test_y-0.0))"
      ],
      "metadata": {
        "id": "ncDfsOib9da-"
      },
      "execution_count": null,
      "outputs": []
    },
    {
      "cell_type": "code",
      "source": [],
      "metadata": {
        "id": "TV2fC4rY-g-F"
      },
      "execution_count": null,
      "outputs": []
    }
  ]
}